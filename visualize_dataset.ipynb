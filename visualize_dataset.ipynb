{
 "cells": [
  {
   "cell_type": "markdown",
   "metadata": {},
   "source": [
    "PopDanceSet Data Visualization: \n",
    "\n",
    "Everyone has their own preferences, so you can freely decide which dances you want and which you do not by rendering the dances in the video foramt. Furthermore, you can even create your own dance dataset based on PopDanceSet."
   ]
  },
  {
   "cell_type": "code",
   "execution_count": null,
   "metadata": {},
   "outputs": [
    {
     "name": "stdout",
     "output_type": "stream",
     "text": [
      "The content of Numpy files:\n"
     ]
    },
    {
     "name": "stderr",
     "output_type": "stream",
     "text": [
      "/root/Code/POPDG/vis.py:198: UserWarning: No data for colormapping provided via 'c'. Parameters 'cmap' will be ignored\n",
      "  ax.scatter([], [], [], zorder=10, s=0, cmap=ListedColormap([\"r\", \"g\", \"b\"]))\n"
     ]
    },
    {
     "name": "stdout",
     "output_type": "stream",
     "text": [
      "The content of Numpy files:\n"
     ]
    },
    {
     "name": "stderr",
     "output_type": "stream",
     "text": [
      "/root/Code/POPDG/vis.py:198: UserWarning: No data for colormapping provided via 'c'. Parameters 'cmap' will be ignored\n",
      "  ax.scatter([], [], [], zorder=10, s=0, cmap=ListedColormap([\"r\", \"g\", \"b\"]))\n"
     ]
    },
    {
     "name": "stdout",
     "output_type": "stream",
     "text": [
      "The content of Numpy files:\n"
     ]
    },
    {
     "name": "stderr",
     "output_type": "stream",
     "text": [
      "/root/Code/POPDG/vis.py:198: UserWarning: No data for colormapping provided via 'c'. Parameters 'cmap' will be ignored\n",
      "  ax.scatter([], [], [], zorder=10, s=0, cmap=ListedColormap([\"r\", \"g\", \"b\"]))\n"
     ]
    },
    {
     "name": "stdout",
     "output_type": "stream",
     "text": [
      "The content of Numpy files:\n"
     ]
    },
    {
     "name": "stderr",
     "output_type": "stream",
     "text": [
      "/root/Code/POPDG/vis.py:198: UserWarning: No data for colormapping provided via 'c'. Parameters 'cmap' will be ignored\n",
      "  ax.scatter([], [], [], zorder=10, s=0, cmap=ListedColormap([\"r\", \"g\", \"b\"]))\n"
     ]
    },
    {
     "name": "stdout",
     "output_type": "stream",
     "text": [
      "The content of Numpy files:\n"
     ]
    },
    {
     "name": "stderr",
     "output_type": "stream",
     "text": [
      "/root/Code/POPDG/vis.py:198: UserWarning: No data for colormapping provided via 'c'. Parameters 'cmap' will be ignored\n",
      "  ax.scatter([], [], [], zorder=10, s=0, cmap=ListedColormap([\"r\", \"g\", \"b\"]))\n"
     ]
    },
    {
     "name": "stdout",
     "output_type": "stream",
     "text": [
      "The content of Numpy files:\n"
     ]
    },
    {
     "name": "stderr",
     "output_type": "stream",
     "text": [
      "/root/Code/POPDG/vis.py:198: UserWarning: No data for colormapping provided via 'c'. Parameters 'cmap' will be ignored\n",
      "  ax.scatter([], [], [], zorder=10, s=0, cmap=ListedColormap([\"r\", \"g\", \"b\"]))\n"
     ]
    },
    {
     "name": "stdout",
     "output_type": "stream",
     "text": [
      "The content of Numpy files:\n"
     ]
    },
    {
     "name": "stderr",
     "output_type": "stream",
     "text": [
      "/root/Code/POPDG/vis.py:198: UserWarning: No data for colormapping provided via 'c'. Parameters 'cmap' will be ignored\n",
      "  ax.scatter([], [], [], zorder=10, s=0, cmap=ListedColormap([\"r\", \"g\", \"b\"]))\n"
     ]
    },
    {
     "name": "stdout",
     "output_type": "stream",
     "text": [
      "The content of Numpy files:\n"
     ]
    },
    {
     "name": "stderr",
     "output_type": "stream",
     "text": [
      "/root/Code/POPDG/vis.py:198: UserWarning: No data for colormapping provided via 'c'. Parameters 'cmap' will be ignored\n",
      "  ax.scatter([], [], [], zorder=10, s=0, cmap=ListedColormap([\"r\", \"g\", \"b\"]))\n"
     ]
    },
    {
     "name": "stdout",
     "output_type": "stream",
     "text": [
      "The content of Numpy files:\n"
     ]
    },
    {
     "name": "stderr",
     "output_type": "stream",
     "text": [
      "/root/Code/POPDG/vis.py:198: UserWarning: No data for colormapping provided via 'c'. Parameters 'cmap' will be ignored\n",
      "  ax.scatter([], [], [], zorder=10, s=0, cmap=ListedColormap([\"r\", \"g\", \"b\"]))\n"
     ]
    },
    {
     "name": "stdout",
     "output_type": "stream",
     "text": [
      "The content of Numpy files:\n"
     ]
    },
    {
     "name": "stderr",
     "output_type": "stream",
     "text": [
      "/root/Code/POPDG/vis.py:198: UserWarning: No data for colormapping provided via 'c'. Parameters 'cmap' will be ignored\n",
      "  ax.scatter([], [], [], zorder=10, s=0, cmap=ListedColormap([\"r\", \"g\", \"b\"]))\n"
     ]
    }
   ],
   "source": [
    "import pickle\n",
    "from vis import SMPLSkeleton\n",
    "from vis import skeleton_render\n",
    "import torch\n",
    "import os\n",
    "import numpy as np\n",
    "from pytorch3d.transforms import (RotateAxisAngle, axis_angle_to_quaternion,\n",
    "                                  quaternion_multiply,\n",
    "                                  quaternion_to_axis_angle)\n",
    "\n",
    "def view_pickle_file(file_path):\n",
    "    try:\n",
    "        with open(file_path, 'rb') as file:\n",
    "            data = np.load(file, allow_pickle=True).item()\n",
    "        \n",
    "        print(\"The content of Numpy files:\")\n",
    "        \n",
    "        pos = data[\"pos\"]\n",
    "        nframes,_ = pos.shape\n",
    "        q = data[\"q\"].reshape(nframes,-1,3)        \n",
    "        \n",
    "    except Exception as e:\n",
    "        print(\"Failed to read the .npy file:\", str(e))\n",
    "        \n",
    "    return pos, q\n",
    "\n",
    "directory = 'data/test/1/motions'\n",
    "files = os.listdir(directory)\n",
    "\n",
    "for file in files:\n",
    "    if file.endswith('.npy'):\n",
    "        new_file_name = file.split('.')[0]\n",
    "        new_file_path = f'data/test/1/motions_sliced/{new_file_name}_slice0.npy'\n",
    "        pos, q = view_pickle_file(new_file_path)\n",
    "\n",
    "        smpl = SMPLSkeleton()\n",
    "        pos = pos.unsqueeze(0)\n",
    "        q = q.unsqueeze(0)\n",
    "\n",
    "        root_q = q[:, :, :1, :]  \n",
    "        root_q_quat = axis_angle_to_quaternion(root_q)\n",
    "        rotation = torch.Tensor(\n",
    "            [0.7071068, -0.7071068, 0, 0]\n",
    "        )  \n",
    "        root_q_quat = quaternion_multiply(rotation, root_q_quat)\n",
    "        root_q = quaternion_to_axis_angle(root_q_quat)\n",
    "        q[:, :, :1, :] = root_q\n",
    "\n",
    "        pos_rotation = RotateAxisAngle(-90, axis=\"X\", degrees=True)\n",
    "        pos = pos_rotation.transform_points(\n",
    "            pos\n",
    "        )\n",
    "        pos[:, :, 2] += 1\n",
    "        pos[:, :, 1] -= 5\n",
    "\n",
    "        full_pose = (smpl.forward(q,pos).detach().cpu().numpy())\n",
    "        # print(full_pose.shape)\n",
    "        render_dir = 'renders'\n",
    "        exp_name = 'test_1'\n",
    "        render_out = os.path.join(render_dir, \"test\" + exp_name)\n",
    "        epoch = 0\n",
    "        file_name = os.path.basename(new_file_path)\n",
    "        name = os.path.splitext(file_name)[0]\n",
    "        skeleton_render(\n",
    "            full_pose[0],\n",
    "            epoch = f\"{epoch}\",\n",
    "            out = render_out,\n",
    "            # name = \"BV1dY411u7fD_Clip_2_slice0\",\n",
    "            name = name,\n",
    "            sound = False\n",
    "        )"
   ]
  }
 ],
 "metadata": {
  "kernelspec": {
   "display_name": "pytorch3d",
   "language": "python",
   "name": "python3"
  },
  "language_info": {
   "codemirror_mode": {
    "name": "ipython",
    "version": 3
   },
   "file_extension": ".py",
   "mimetype": "text/x-python",
   "name": "python",
   "nbconvert_exporter": "python",
   "pygments_lexer": "ipython3",
   "version": "3.9.23"
  },
  "orig_nbformat": 4
 },
 "nbformat": 4,
 "nbformat_minor": 2
}
